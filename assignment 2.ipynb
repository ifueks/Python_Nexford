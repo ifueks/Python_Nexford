{
 "cells": [
  {
   "cell_type": "code",
   "id": "initial_id",
   "metadata": {
    "collapsed": true,
    "ExecuteTime": {
     "end_time": "2025-05-24T14:51:28.220481Z",
     "start_time": "2025-05-24T14:51:22.370439Z"
    }
   },
   "source": [
    "!pip install pandas\n",
    "import pandas as pd\n",
    "import zipfile\n",
    "import os\n",
    "\n",
    "# Define the data types for specific columns\n",
    "dtype_spec = {\n",
    "    'column1': 'string',\n",
    "    'column2': 'string',\n",
    "    'column3': 'float64',\n",
    "    'column4': 'float64',\n",
    "    'column5': 'float64',\n",
    "    'column6': 'string',\n",
    "    'column7': 'float64',\n",
    "    'column8': 'float64',\n",
    "    'column9': 'int64'\n",
    "}\n",
    "\n",
    "data = pd.read_csv(r'C:\\Users\\eliri\\OneDrive\\Desktop\\Total.csv', dtype=dtype_spec, low_memory=False)\n",
    "\n",
    "def display_employee_information(EmployeeName):\n",
    "    return data[data['EmployeeName'] == 'ALSON LEE']\n",
    "#print(display_employee_information('ALSON LEE'))\n",
    "\n",
    "try:\n",
    "    # Map employee name to salary\n",
    "    salary_dict = dict(zip(data['EmployeeName'], data['TotalPayBenefits']))\n",
    "    print(\"Salary dictionary created.\")\n",
    "except Exception as e:\n",
    "    print(f\"Error creating salary dictionary: {e}\")\n",
    "\n",
    "#Export Employee Details to CSV and Zip\n",
    "def export_employee_profile(name):\n",
    "        details = display_employee_information(name)\n",
    "        if isinstance(details, pd.DataFrame) and not details.empty:\n",
    "            csv_filename = f\"{name.replace(' ', '_')}_profile.csv\"\n",
    "            zip_filename = \"Employee Profile.zip\"\n",
    "            # Export to CSV\n",
    "            details.to_csv(csv_filename, index=False)\n",
    "            # Zip the CSV\n",
    "            with zipfile.ZipFile(zip_filename, 'w') as zip_doc:\n",
    "                zip_doc.write(csv_filename)\n",
    "            # Remove the CSV after zipping\n",
    "            os.remove(csv_filename)\n",
    "            print(f\"Profile for {name} exported and zipped as '{zip_filename}'.\")\n",
    "        else:\n",
    "            print(details)\n",
    "\n",
    "\n",
    "employee_name = \"ALSON LEE\"\n",
    "print(display_employee_information(employee_name))\n",
    "export_employee_profile(employee_name)\n",
    "\n",
    "#Unzip the folder and display the data in R\n",
    "\n",
    "unzip(\"Employee Profile.zip\", exdir = \"Employee_Profile\")\n",
    "csv_file <- list.files(\"Employee_Profile\", pattern = \"\\\\.csv$\", full.names = TRUE)[1]\n",
    "employee_data <- read.csv(csv_file)\n",
    "print(employee_data)"
   ],
   "outputs": [
    {
     "name": "stdout",
     "output_type": "stream",
     "text": [
      "Requirement already satisfied: pandas in c:\\users\\eliri\\anaconda3\\lib\\site-packages (2.2.3)\n",
      "Requirement already satisfied: numpy>=1.26.0 in c:\\users\\eliri\\anaconda3\\lib\\site-packages (from pandas) (1.26.4)\n",
      "Requirement already satisfied: python-dateutil>=2.8.2 in c:\\users\\eliri\\anaconda3\\lib\\site-packages (from pandas) (2.9.0.post0)\n",
      "Requirement already satisfied: pytz>=2020.1 in c:\\users\\eliri\\anaconda3\\lib\\site-packages (from pandas) (2024.1)\n",
      "Requirement already satisfied: tzdata>=2022.7 in c:\\users\\eliri\\anaconda3\\lib\\site-packages (from pandas) (2023.3)\n",
      "Requirement already satisfied: six>=1.5 in c:\\users\\eliri\\anaconda3\\lib\\site-packages (from python-dateutil>=2.8.2->pandas) (1.16.0)\n",
      "Salary dictionary created.\n",
      "  EmployeeName                            JobTitle   BasePay OvertimePay  \\\n",
      "6    ALSON LEE  BATTALION CHIEF, (FIRE DEPARTMENT)  92492.01    89062.90   \n",
      "\n",
      "    OtherPay      Benefits   TotalPay  TotalPayBenefits  Year  \n",
      "6  134426.14  Not Provided  315981.05         315981.05  2011  \n",
      "Profile for ALSON LEE exported and zipped as 'Employee Profile.zip'.\n"
     ]
    }
   ],
   "execution_count": 1
  }
 ],
 "metadata": {
  "kernelspec": {
   "display_name": "Python 3",
   "language": "python",
   "name": "python3"
  },
  "language_info": {
   "codemirror_mode": {
    "name": "ipython",
    "version": 2
   },
   "file_extension": ".py",
   "mimetype": "text/x-python",
   "name": "python",
   "nbconvert_exporter": "python",
   "pygments_lexer": "ipython2",
   "version": "2.7.6"
  }
 },
 "nbformat": 4,
 "nbformat_minor": 5
}
